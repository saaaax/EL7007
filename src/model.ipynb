{
 "cells": [
  {
   "cell_type": "code",
   "execution_count": null,
   "id": "5c3ff159",
   "metadata": {},
   "outputs": [],
   "source": [
    "import torch\n",
    "import torch.nn as nn\n",
    "import torch.optim as optim\n",
    "import pandas as pd\n",
    "from PIL import Image\n",
    "from torchvision import transforms\n",
    "from torch.utils.data import Dataset, DataLoader\n",
    "from torch.nn.functional import log_softmax\n",
    "from torch.utils.data import random_split\n",
    "from torchvision.models import resnet18\n",
    "\n",
    "\n",
    "import matplotlib.pyplot as plt\n",
    "import numpy as np\n",
    "\n",
    "from tqdm import tqdm\n",
    "\n",
    "from jiwer import wer, cer"
   ]
  },
  {
   "cell_type": "markdown",
   "id": "df2f97ab",
   "metadata": {},
   "source": [
    "### Train"
   ]
  },
  {
   "cell_type": "code",
   "execution_count": 2,
   "id": "e5538a11",
   "metadata": {},
   "outputs": [],
   "source": [
    "class CRNN(nn.Module):\n",
    "    def __init__(self, num_classes):\n",
    "        super(CRNN, self).__init__()\n",
    "\n",
    "        self.cnn = nn.Sequential(\n",
    "            nn.Conv2d(1, 64, kernel_size=3, padding=1),\n",
    "            nn.ReLU(),\n",
    "            nn.MaxPool2d(2, 2),  # reduce H y W\n",
    "            nn.Conv2d(64, 128, kernel_size=3, padding=1),\n",
    "            nn.ReLU(),\n",
    "            nn.AdaptiveAvgPool2d((1, None))  # fuerza H = 1, W se mantiene\n",
    "        )\n",
    "\n",
    "        # Supongamos que la salida del CNN tiene tamaño (B, 128, 1, W)\n",
    "        # y por tanto la entrada al RNN será (W, B, 128)\n",
    "        self.rnn = nn.LSTM(input_size=128, hidden_size=256, num_layers=2, bidirectional=True)\n",
    "        self.fc = nn.Linear(512, num_classes)\n",
    "\n",
    "    def forward(self, x):\n",
    "        conv = self.cnn(x)               # (B, 128, H=1, W)\n",
    "        conv = conv.squeeze(2)           # (B, 128, W)\n",
    "        conv = conv.permute(2, 0, 1)     # (W, B, 128)\n",
    "        rnn_out, _ = self.rnn(conv)      # (W, B, 512)\n",
    "        out = self.fc(rnn_out)           # (W, B, num_classes)\n",
    "        return out\n"
   ]
  },
  {
   "cell_type": "code",
   "execution_count": 3,
   "id": "fbde41f7",
   "metadata": {},
   "outputs": [],
   "source": [
    "train = True"
   ]
  },
  {
   "cell_type": "code",
   "execution_count": 4,
   "id": "c55387c6",
   "metadata": {},
   "outputs": [],
   "source": [
    "# Config\n",
    "CHARACTERS = \"-abcdefghijklmnopqrstuvwxyz0123456789\"\n",
    "char_to_idx = {c: i for i, c in enumerate(CHARACTERS)}\n",
    "idx_to_char = {i: c for c, i in char_to_idx.items()}\n",
    "\n",
    "class OCRDataset(Dataset):\n",
    "    def __init__(self, csv_file, img_dir):\n",
    "        df = pd.read_csv(csv_file, header=None)\n",
    "        self.samples = df.values.tolist()\n",
    "        self.img_dir = img_dir\n",
    "        self.transform = transforms.Compose([\n",
    "            transforms.Grayscale(),\n",
    "            transforms.Resize((32, 128)),\n",
    "            transforms.ToTensor(),\n",
    "            transforms.Normalize((0.5,), (0.5,))\n",
    "        ])\n",
    "\n",
    "    def __len__(self):\n",
    "        return len(self.samples)\n",
    "\n",
    "    def __getitem__(self, idx):\n",
    "        img_path, label = self.samples[idx]\n",
    "        label = str(label)\n",
    "        img = Image.open(f\"{self.img_dir}/{img_path.split('/')[-1]}\").convert('L')\n",
    "        img = self.transform(img)\n",
    "        label_idx = [char_to_idx[c] for c in label if c in char_to_idx]\n",
    "        return img, torch.tensor(label_idx, dtype=torch.long), len(label_idx)\n",
    "\n",
    "\n",
    "def collate_fn(batch):\n",
    "    imgs, labels, label_lengths = zip(*batch)\n",
    "    imgs = torch.stack(imgs)\n",
    "    labels = torch.cat(labels)\n",
    "    return imgs, labels, torch.tensor(label_lengths)\n",
    "\n",
    "# Load the full dataset\n",
    "full_dataset = OCRDataset(\"ocr_dataset_train/labels.csv\", \"ocr_dataset_train/img\")\n",
    "\n",
    "# Define the sizes for training and validation\n",
    "train_size = int(0.8 * len(full_dataset))\n",
    "val_size = len(full_dataset) - train_size\n",
    "\n",
    "# Split the dataset\n",
    "train_dataset, val_dataset = random_split(full_dataset, [train_size, val_size])\n",
    "\n",
    "# DataLoaders\n",
    "train_loader = DataLoader(train_dataset, batch_size=64, shuffle=True, collate_fn=collate_fn)\n",
    "val_loader = DataLoader(val_dataset, batch_size=64, shuffle=False, collate_fn=collate_fn)"
   ]
  },
  {
   "cell_type": "code",
   "execution_count": 5,
   "id": "8f306d35",
   "metadata": {},
   "outputs": [
    {
     "name": "stdout",
     "output_type": "stream",
     "text": [
      "Using device: cuda\n"
     ]
    }
   ],
   "source": [
    "# Model setup\n",
    "device = torch.device(\"cuda\" if torch.cuda.is_available() else \"cpu\")\n",
    "print(f\"Using device: {device}\")\n",
    "model = CRNN(num_classes=len(CHARACTERS)).to(device)\n",
    "criterion = nn.CTCLoss(blank=0, zero_infinity=True)\n",
    "optimizer = optim.Adam(model.parameters(), lr=0.001)"
   ]
  },
  {
   "cell_type": "code",
   "execution_count": 6,
   "id": "cc9c76bb",
   "metadata": {},
   "outputs": [
    {
     "name": "stderr",
     "output_type": "stream",
     "text": [
      "Epoch 1: 100%|██████████| 2500/2500 [18:50<00:00,  2.21batch/s, loss=0.658]\n"
     ]
    },
    {
     "name": "stdout",
     "output_type": "stream",
     "text": [
      "Epoch 1 - Train Loss: 1.9705, Val Loss: 0.5882\n",
      "Saved new best model to 'ocr_model_gamma.pth'\n"
     ]
    },
    {
     "name": "stderr",
     "output_type": "stream",
     "text": [
      "Epoch 2: 100%|██████████| 2500/2500 [02:46<00:00, 14.98batch/s, loss=0.378]\n"
     ]
    },
    {
     "name": "stdout",
     "output_type": "stream",
     "text": [
      "Epoch 2 - Train Loss: 0.4291, Val Loss: 0.3473\n",
      "Saved new best model to 'ocr_model_gamma.pth'\n"
     ]
    },
    {
     "name": "stderr",
     "output_type": "stream",
     "text": [
      "Epoch 3: 100%|██████████| 2500/2500 [02:45<00:00, 15.08batch/s, loss=0.266]\n"
     ]
    },
    {
     "name": "stdout",
     "output_type": "stream",
     "text": [
      "Epoch 3 - Train Loss: 0.3128, Val Loss: 0.2930\n",
      "Saved new best model to 'ocr_model_gamma.pth'\n"
     ]
    },
    {
     "name": "stderr",
     "output_type": "stream",
     "text": [
      "Epoch 4: 100%|██████████| 2500/2500 [02:45<00:00, 15.14batch/s, loss=0.274] \n"
     ]
    },
    {
     "name": "stdout",
     "output_type": "stream",
     "text": [
      "Epoch 4 - Train Loss: 0.2721, Val Loss: 0.2660\n",
      "Saved new best model to 'ocr_model_gamma.pth'\n"
     ]
    },
    {
     "name": "stderr",
     "output_type": "stream",
     "text": [
      "Epoch 5: 100%|██████████| 2500/2500 [02:45<00:00, 15.13batch/s, loss=0.239] \n"
     ]
    },
    {
     "name": "stdout",
     "output_type": "stream",
     "text": [
      "Epoch 5 - Train Loss: 0.2496, Val Loss: 0.2465\n",
      "Saved new best model to 'ocr_model_gamma.pth'\n"
     ]
    },
    {
     "name": "stderr",
     "output_type": "stream",
     "text": [
      "Epoch 6: 100%|██████████| 2500/2500 [02:46<00:00, 14.98batch/s, loss=0.1]   \n"
     ]
    },
    {
     "name": "stdout",
     "output_type": "stream",
     "text": [
      "Epoch 6 - Train Loss: 0.2351, Val Loss: 0.2398\n",
      "Saved new best model to 'ocr_model_gamma.pth'\n"
     ]
    },
    {
     "name": "stderr",
     "output_type": "stream",
     "text": [
      "Epoch 7: 100%|██████████| 2500/2500 [02:47<00:00, 14.92batch/s, loss=0.263] \n"
     ]
    },
    {
     "name": "stdout",
     "output_type": "stream",
     "text": [
      "Epoch 7 - Train Loss: 0.2241, Val Loss: 0.2391\n",
      "Saved new best model to 'ocr_model_gamma.pth'\n"
     ]
    },
    {
     "name": "stderr",
     "output_type": "stream",
     "text": [
      "Epoch 8: 100%|██████████| 2500/2500 [02:45<00:00, 15.09batch/s, loss=0.21]  \n"
     ]
    },
    {
     "name": "stdout",
     "output_type": "stream",
     "text": [
      "Epoch 8 - Train Loss: 0.2152, Val Loss: 0.2259\n",
      "Saved new best model to 'ocr_model_gamma.pth'\n"
     ]
    },
    {
     "name": "stderr",
     "output_type": "stream",
     "text": [
      "Epoch 9: 100%|██████████| 2500/2500 [02:45<00:00, 15.13batch/s, loss=0.131] \n"
     ]
    },
    {
     "name": "stdout",
     "output_type": "stream",
     "text": [
      "Epoch 9 - Train Loss: 0.2084, Val Loss: 0.2187\n",
      "Saved new best model to 'ocr_model_gamma.pth'\n"
     ]
    },
    {
     "name": "stderr",
     "output_type": "stream",
     "text": [
      "Epoch 10: 100%|██████████| 2500/2500 [02:45<00:00, 15.14batch/s, loss=0.236] \n"
     ]
    },
    {
     "name": "stdout",
     "output_type": "stream",
     "text": [
      "Epoch 10 - Train Loss: 0.2025, Val Loss: 0.2184\n",
      "Saved new best model to 'ocr_model_gamma.pth'\n"
     ]
    },
    {
     "name": "stderr",
     "output_type": "stream",
     "text": [
      "Epoch 11: 100%|██████████| 2500/2500 [02:45<00:00, 15.07batch/s, loss=0.232] \n"
     ]
    },
    {
     "name": "stdout",
     "output_type": "stream",
     "text": [
      "Epoch 11 - Train Loss: 0.1966, Val Loss: 0.2197\n",
      "No improvement for 1 epoch(s)\n"
     ]
    },
    {
     "name": "stderr",
     "output_type": "stream",
     "text": [
      "Epoch 12: 100%|██████████| 2500/2500 [06:51<00:00,  6.08batch/s, loss=0.218]  \n"
     ]
    },
    {
     "name": "stdout",
     "output_type": "stream",
     "text": [
      "Epoch 12 - Train Loss: 0.1914, Val Loss: 0.2179\n",
      "Saved new best model to 'ocr_model_gamma.pth'\n"
     ]
    },
    {
     "name": "stderr",
     "output_type": "stream",
     "text": [
      "Epoch 13: 100%|██████████| 2500/2500 [07:48<00:00,  5.34batch/s, loss=0.219]  \n"
     ]
    },
    {
     "name": "stdout",
     "output_type": "stream",
     "text": [
      "Epoch 13 - Train Loss: 0.1850, Val Loss: 0.2171\n",
      "Saved new best model to 'ocr_model_gamma.pth'\n"
     ]
    },
    {
     "name": "stderr",
     "output_type": "stream",
     "text": [
      "Epoch 14: 100%|██████████| 2500/2500 [02:56<00:00, 14.20batch/s, loss=0.0833]\n"
     ]
    },
    {
     "name": "stdout",
     "output_type": "stream",
     "text": [
      "Epoch 14 - Train Loss: 0.1791, Val Loss: 0.2221\n",
      "No improvement for 1 epoch(s)\n"
     ]
    },
    {
     "name": "stderr",
     "output_type": "stream",
     "text": [
      "Epoch 15: 100%|██████████| 2500/2500 [02:55<00:00, 14.25batch/s, loss=0.177] \n"
     ]
    },
    {
     "name": "stdout",
     "output_type": "stream",
     "text": [
      "Epoch 15 - Train Loss: 0.1727, Val Loss: 0.2193\n",
      "No improvement for 2 epoch(s)\n"
     ]
    },
    {
     "name": "stderr",
     "output_type": "stream",
     "text": [
      "Epoch 16: 100%|██████████| 2500/2500 [02:50<00:00, 14.69batch/s, loss=0.135] \n"
     ]
    },
    {
     "name": "stdout",
     "output_type": "stream",
     "text": [
      "Epoch 16 - Train Loss: 0.1659, Val Loss: 0.2246\n",
      "No improvement for 3 epoch(s)\n"
     ]
    },
    {
     "name": "stderr",
     "output_type": "stream",
     "text": [
      "Epoch 17: 100%|██████████| 2500/2500 [02:46<00:00, 15.01batch/s, loss=0.151] \n"
     ]
    },
    {
     "name": "stdout",
     "output_type": "stream",
     "text": [
      "Epoch 17 - Train Loss: 0.1587, Val Loss: 0.2258\n",
      "No improvement for 4 epoch(s)\n"
     ]
    },
    {
     "name": "stderr",
     "output_type": "stream",
     "text": [
      "Epoch 18: 100%|██████████| 2500/2500 [02:47<00:00, 14.90batch/s, loss=0.226] \n"
     ]
    },
    {
     "name": "stdout",
     "output_type": "stream",
     "text": [
      "Epoch 18 - Train Loss: 0.1508, Val Loss: 0.2356\n",
      "No improvement for 5 epoch(s)\n",
      "Early stopping triggered.\n"
     ]
    }
   ],
   "source": [
    "# Early stopping params\n",
    "patience = 5\n",
    "best_val_loss = float('inf')\n",
    "epochs_without_improvement = 0\n",
    "best_model_path = \"ocr_model_gamma.pth\"\n",
    "\n",
    "if train:\n",
    "    for epoch in range(30):\n",
    "        model.train()\n",
    "        train_loss = 0.0\n",
    "\n",
    "        with tqdm(train_loader, unit=\"batch\") as tepoch:\n",
    "            for imgs, labels, label_lengths in tepoch:\n",
    "                imgs = imgs.to(device)\n",
    "                labels = labels.to(device)\n",
    "\n",
    "                logits = model(imgs)  # shape: (T, N, C)\n",
    "                log_probs = logits.log_softmax(2)\n",
    "                input_lengths = torch.full(size=(logits.size(1),), fill_value=logits.size(0), dtype=torch.long)\n",
    "\n",
    "                loss = criterion(log_probs, labels, input_lengths, label_lengths)\n",
    "                optimizer.zero_grad()\n",
    "                loss.backward()\n",
    "                optimizer.step()\n",
    "\n",
    "                train_loss += loss.item()\n",
    "                tepoch.set_description(f\"Epoch {epoch+1}\")\n",
    "                tepoch.set_postfix(loss=loss.item())\n",
    "\n",
    "        avg_train_loss = train_loss / len(train_loader)\n",
    "\n",
    "        # ---- Validation ----\n",
    "        model.eval()\n",
    "        val_loss = 0.0\n",
    "        with torch.no_grad():\n",
    "            for imgs, labels, label_lengths in val_loader:\n",
    "                imgs = imgs.to(device)\n",
    "                labels = labels.to(device)\n",
    "\n",
    "                logits = model(imgs)\n",
    "                log_probs = logits.log_softmax(2)\n",
    "                input_lengths = torch.full(size=(logits.size(1),), fill_value=logits.size(0), dtype=torch.long)\n",
    "\n",
    "                loss = criterion(log_probs, labels, input_lengths, label_lengths)\n",
    "                val_loss += loss.item()\n",
    "\n",
    "        avg_val_loss = val_loss / len(val_loader)\n",
    "        print(f\"Epoch {epoch+1} - Train Loss: {avg_train_loss:.4f}, Val Loss: {avg_val_loss:.4f}\")\n",
    "\n",
    "        # ---- Early Stopping Check ----\n",
    "        if avg_val_loss < best_val_loss:\n",
    "            best_val_loss = avg_val_loss\n",
    "            epochs_without_improvement = 0\n",
    "            torch.save(model.state_dict(), best_model_path)\n",
    "            print(f\"Saved new best model to '{best_model_path}'\")\n",
    "        else:\n",
    "            epochs_without_improvement += 1\n",
    "            print(f\"No improvement for {epochs_without_improvement} epoch(s)\")\n",
    "\n",
    "        if epochs_without_improvement >= patience:\n",
    "            print(\"Early stopping triggered.\")\n",
    "            break"
   ]
  },
  {
   "cell_type": "markdown",
   "id": "3a2290b2",
   "metadata": {},
   "source": [
    "### Simple Test"
   ]
  },
  {
   "cell_type": "code",
   "execution_count": 7,
   "id": "11ad65de",
   "metadata": {},
   "outputs": [
    {
     "name": "stderr",
     "output_type": "stream",
     "text": [
      "C:\\Users\\ignac\\AppData\\Local\\Temp\\ipykernel_1516\\2256506409.py:3: FutureWarning: You are using `torch.load` with `weights_only=False` (the current default value), which uses the default pickle module implicitly. It is possible to construct malicious pickle data which will execute arbitrary code during unpickling (See https://github.com/pytorch/pytorch/blob/main/SECURITY.md#untrusted-models for more details). In a future release, the default value for `weights_only` will be flipped to `True`. This limits the functions that could be executed during unpickling. Arbitrary objects will no longer be allowed to be loaded via this mode unless they are explicitly allowlisted by the user via `torch.serialization.add_safe_globals`. We recommend you start setting `weights_only=True` for any use case where you don't have full control of the loaded file. Please open an issue on GitHub for any issues related to this experimental feature.\n",
      "  model.load_state_dict(torch.load(\"ocr_model_gamma.pth\", map_location=device))\n"
     ]
    },
    {
     "data": {
      "text/plain": [
       "CRNN(\n",
       "  (cnn): Sequential(\n",
       "    (0): Conv2d(1, 64, kernel_size=(3, 3), stride=(1, 1), padding=(1, 1))\n",
       "    (1): ReLU()\n",
       "    (2): MaxPool2d(kernel_size=2, stride=2, padding=0, dilation=1, ceil_mode=False)\n",
       "    (3): Conv2d(64, 128, kernel_size=(3, 3), stride=(1, 1), padding=(1, 1))\n",
       "    (4): ReLU()\n",
       "    (5): AdaptiveAvgPool2d(output_size=(1, None))\n",
       "  )\n",
       "  (rnn): LSTM(128, 256, num_layers=2, bidirectional=True)\n",
       "  (fc): Linear(in_features=512, out_features=37, bias=True)\n",
       ")"
      ]
     },
     "execution_count": 7,
     "metadata": {},
     "output_type": "execute_result"
    }
   ],
   "source": [
    "device = torch.device(\"cuda\" if torch.cuda.is_available() else \"cpu\")\n",
    "model = CRNN(num_classes=len(CHARACTERS)).to(device)\n",
    "model.load_state_dict(torch.load(\"ocr_model_gamma.pth\", map_location=device))\n",
    "model.eval()"
   ]
  },
  {
   "cell_type": "code",
   "execution_count": 8,
   "id": "9c612eb5",
   "metadata": {},
   "outputs": [],
   "source": [
    "transform = transforms.Compose([\n",
    "    transforms.Grayscale(),\n",
    "    transforms.Resize((32, 128)),\n",
    "    transforms.ToTensor(),\n",
    "    transforms.Normalize((0.5,), (0.5,))\n",
    "])\n",
    "\n",
    "def load_image(image_path):\n",
    "    image = Image.open(image_path).convert(\"L\")\n",
    "    return transform(image).unsqueeze(0).to(device) "
   ]
  },
  {
   "cell_type": "code",
   "execution_count": 9,
   "id": "08a106bd",
   "metadata": {},
   "outputs": [],
   "source": [
    "def decode_prediction(logits, idx_to_char):\n",
    "    # Logits are of shape (T, B, C) where T is sequence length, B is batch size, and C is number of classes\n",
    "    pred = logits.argmax(dim=2)  # (T, B)\n",
    "    pred = pred.permute(1, 0)    # (B, T) to (B, T)\n",
    "\n",
    "    # Convert indices to characters using idx_to_char mapping\n",
    "    decoded_texts = []\n",
    "    for i in range(pred.size(0)):  # Iterate over batch size\n",
    "        decoded_text = ''.join([idx_to_char[idx.item()] for idx in pred[i] if idx.item() != 0])  # Assuming 0 is the padding token\n",
    "        decoded_texts.append(decoded_text)\n",
    "    return decoded_texts\n"
   ]
  },
  {
   "cell_type": "code",
   "execution_count": 12,
   "id": "0827d5a0",
   "metadata": {},
   "outputs": [
    {
     "name": "stdout",
     "output_type": "stream",
     "text": [
      "Texto detectado: ['ital']\n"
     ]
    },
    {
     "data": {
      "image/png": "[encoded data removed]",
      "text/plain": [
       "<Figure size 640x480 with 1 Axes>"
      ]
     },
     "metadata": {},
     "output_type": "display_data"
    }
   ],
   "source": [
    "image_tensor = load_image(\"D:/my_files/universidad/intro_imagenes/EL7007/src/ocr_dataset_train/img/00002.png\")\n",
    "\n",
    "with torch.no_grad():\n",
    "    logits = model(image_tensor)  # (T, B, C)\n",
    "    logits = logits.log_softmax(2)\n",
    "\n",
    "predicted_texts = decode_prediction(logits, idx_to_char)\n",
    "print(\"Texto detectado:\", predicted_texts)\n",
    "\n",
    "img_np = image_tensor.squeeze().cpu().numpy()  # -> (H, W)\n",
    "# plt.imshow(img_np, cmap='gray')\n",
    "\n",
    "plt.imshow(img_np, cmap='gray')\n",
    "plt.title(f\"Texto detectado: {predicted_texts[0]}\")\n",
    "plt.axis('off')\n",
    "plt.show()"
   ]
  },
  {
   "cell_type": "code",
   "execution_count": 13,
   "id": "d0a00334",
   "metadata": {},
   "outputs": [],
   "source": [
    "def load_and_binarize_image(path, threshold=100):\n",
    "    # Cargar imagen y convertir a escala de grises\n",
    "    image = Image.open(path).convert(\"L\")  # Modo \"L\" es escala de grises\n",
    "\n",
    "    # Convertir a numpy array\n",
    "    image_np = np.array(image)\n",
    "\n",
    "    # Invertir si el fondo es negro y texto blanco (opcional)\n",
    "    image_np = 255 - image_np\n",
    "\n",
    "    # Aplicar umbral: letras negras (0), fondo blanco (255)\n",
    "    binarized = (image_np < threshold).astype(np.uint8) * 255\n",
    "\n",
    "    # Convertir de nuevo a tensor\n",
    "    image_tensor = transforms.ToTensor()(Image.fromarray(binarized))  # (1, H, W)\n",
    "    return image_tensor.unsqueeze(0)  # Añadir batch -> (1, 1, H, W)"
   ]
  },
  {
   "cell_type": "code",
   "execution_count": 25,
   "id": "be603f29",
   "metadata": {},
   "outputs": [
    {
     "name": "stdout",
     "output_type": "stream",
     "text": [
      "Texto detectado: ['corrtte']\n"
     ]
    },
    {
     "data": {
      "image/png": "[encoded data removed]",
      "text/plain": [
       "<Figure size 1000x500 with 2 Axes>"
      ]
     },
     "metadata": {},
     "output_type": "display_data"
    }
   ],
   "source": [
    "image_path = \"D:/my_files/universidad/intro_imagenes/EL7007/src/ocr_dataset_test/corte.png\"\n",
    "image_tensor = load_and_binarize_image(image_path).cuda()\n",
    "\n",
    "# Inference\n",
    "with torch.no_grad():\n",
    "    logits = model(image_tensor)\n",
    "    logits = logits.log_softmax(2)\n",
    "\n",
    "predicted_texts = decode_prediction(logits, idx_to_char)\n",
    "print(\"Texto detectado:\", predicted_texts)\n",
    "\n",
    "# Load original image\n",
    "image = Image.open(image_path)\n",
    "\n",
    "# Convert image_tensor to CPU and NumPy array for display\n",
    "# Assumes image_tensor shape is (1, C, H, W)\n",
    "tensor_image = image_tensor.squeeze().detach().cpu()  # shape: (C, H, W) or (H, W)\n",
    "if tensor_image.ndim == 3:\n",
    "    tensor_image = tensor_image.permute(1, 2, 0)  # (H, W, C)\n",
    "\n",
    "# Plot original and tensor image\n",
    "plt.figure(figsize=(10, 5))\n",
    "\n",
    "# Original image\n",
    "plt.subplot(1, 2, 1)\n",
    "plt.imshow(image)\n",
    "plt.title(\"Original Image\")\n",
    "plt.axis('off')\n",
    "\n",
    "# Tensor image\n",
    "plt.subplot(1, 2, 2)\n",
    "plt.imshow(tensor_image, cmap='gray' if tensor_image.ndim == 2 or tensor_image.shape[2] == 1 else None)\n",
    "plt.title(f\"Detected: {predicted_texts[0]}\")\n",
    "plt.axis('off')\n",
    "\n",
    "plt.tight_layout()\n",
    "plt.show()"
   ]
  },
  {
   "cell_type": "markdown",
   "id": "8ae9df2f",
   "metadata": {},
   "source": [
    "### Test"
   ]
  },
  {
   "cell_type": "code",
   "execution_count": 15,
   "id": "8592cceb",
   "metadata": {},
   "outputs": [],
   "source": [
    "# val_dataset = OCRDataset(\"ocr_dataset_test/labels.csv\", \"ocr_dataset_/img\")\n",
    "# val_loader = DataLoader(val_dataset, batch_size=64, shuffle=False, collate_fn=collate_fn)"
   ]
  },
  {
   "cell_type": "code",
   "execution_count": 16,
   "id": "b30c515a",
   "metadata": {},
   "outputs": [],
   "source": [
    "def calculate_accuracy(model, dataloader, device, idx_to_char):\n",
    "    model.eval()\n",
    "    correct = 0\n",
    "    total = 0\n",
    "\n",
    "    with torch.no_grad():\n",
    "        for imgs, labels, label_lengths in tqdm(dataloader):\n",
    "            imgs = imgs.to(device)\n",
    "            logits = model(imgs)  # [T, B, C]\n",
    "            log_probs = log_softmax(logits, dim=2)\n",
    "\n",
    "            # Predicción y decodificación\n",
    "            pred_texts = decode_prediction(log_probs, idx_to_char)\n",
    "\n",
    "            # Reconstrucción de etiquetas reales\n",
    "            labels = labels.cpu().tolist()\n",
    "            lengths = label_lengths.cpu().tolist()\n",
    "\n",
    "            gt_texts = []\n",
    "            i = 0\n",
    "            for l in lengths:\n",
    "                gt_texts.append(\"\".join([idx_to_char.get(c, \"\") for c in labels[i:i+l]]))\n",
    "                i += l\n",
    "\n",
    "            for pred, gt in zip(pred_texts, gt_texts):\n",
    "                if pred == gt:\n",
    "                    correct += 1\n",
    "                total += 1\n",
    "\n",
    "    return correct / total if total > 0 else 0.0"
   ]
  },
  {
   "cell_type": "code",
   "execution_count": 17,
   "id": "be11c64c",
   "metadata": {},
   "outputs": [],
   "source": [
    "# val_accuracy = calculate_accuracy(model, val_loader, device, idx_to_char)\n",
    "# print(f\"Validation Accuracy: {val_accuracy * 100:.2f}%\")"
   ]
  },
  {
   "cell_type": "markdown",
   "id": "458f4ff6",
   "metadata": {},
   "source": [
    "### WER"
   ]
  },
  {
   "cell_type": "code",
   "execution_count": 18,
   "id": "0bee9e2f",
   "metadata": {},
   "outputs": [],
   "source": [
    "def calculate_wer(model, dataloader, device, idx_to_char):\n",
    "    model.eval()\n",
    "    ground_truths = []\n",
    "    predictions = []\n",
    "\n",
    "    with torch.no_grad():\n",
    "        for imgs, labels, label_lengths in tqdm(dataloader, desc=\"Calculating WER\"):\n",
    "            imgs = imgs.to(device)\n",
    "            logits = model(imgs)\n",
    "            logits = logits.log_softmax(2)\n",
    "\n",
    "            pred_texts = decode_prediction(logits, idx_to_char)\n",
    "\n",
    "            label_offset = 0\n",
    "            for length in label_lengths:\n",
    "                true_text = ''.join([idx_to_char[idx.item()] for idx in labels[label_offset:label_offset + length]])\n",
    "                ground_truths.append(true_text)\n",
    "                label_offset += length\n",
    "\n",
    "            predictions.extend(pred_texts)\n",
    "\n",
    "    return wer(ground_truths, predictions)\n"
   ]
  },
  {
   "cell_type": "code",
   "execution_count": 19,
   "id": "ca2a6e50",
   "metadata": {},
   "outputs": [
    {
     "name": "stderr",
     "output_type": "stream",
     "text": [
      "Calculating WER: 100%|██████████| 625/625 [01:33<00:00,  6.69it/s]\n"
     ]
    },
    {
     "name": "stdout",
     "output_type": "stream",
     "text": [
      "Validation WER (Word Error Rate): 84.09%\n"
     ]
    }
   ],
   "source": [
    "val_wer = calculate_wer(model, val_loader, device, idx_to_char)\n",
    "print(f\"Validation WER (Word Error Rate): {val_wer * 100:.2f}%\")"
   ]
  },
  {
   "cell_type": "markdown",
   "id": "f1bdc261",
   "metadata": {},
   "source": [
    "### CER"
   ]
  },
  {
   "cell_type": "code",
   "execution_count": 20,
   "id": "6badecf1",
   "metadata": {},
   "outputs": [],
   "source": [
    "def calculate_cer(model, dataloader, device, idx_to_char):\n",
    "    model.eval()\n",
    "    ground_truths = []\n",
    "    predictions = []\n",
    "\n",
    "    with torch.no_grad():\n",
    "        for imgs, labels, label_lengths in tqdm(dataloader, desc=\"Evaluando CER\"):\n",
    "            imgs = imgs.to(device)\n",
    "            logits = model(imgs)\n",
    "            logits = logits.log_softmax(2)\n",
    "\n",
    "            pred_texts = decode_prediction(logits, idx_to_char)\n",
    "\n",
    "            label_offset = 0\n",
    "            for length in label_lengths:\n",
    "                true_text = ''.join([idx_to_char[idx.item()] for idx in labels[label_offset:label_offset + length]])\n",
    "                ground_truths.append(true_text)\n",
    "                label_offset += length\n",
    "\n",
    "            predictions.extend(pred_texts)\n",
    "\n",
    "    return cer(ground_truths, predictions)\n"
   ]
  },
  {
   "cell_type": "code",
   "execution_count": 21,
   "id": "b36c97b9",
   "metadata": {},
   "outputs": [
    {
     "name": "stderr",
     "output_type": "stream",
     "text": [
      "Evaluando CER: 100%|██████████| 625/625 [01:38<00:00,  6.32it/s]\n"
     ]
    },
    {
     "name": "stdout",
     "output_type": "stream",
     "text": [
      "Validation CER (Character Error Rate): 33.55%\n"
     ]
    }
   ],
   "source": [
    "val_cer = calculate_cer(model, val_loader, device, idx_to_char)\n",
    "print(f\"Validation CER (Character Error Rate): {val_cer * 100:.2f}%\")"
   ]
  }
 ],
 "metadata": {
  "kernelspec": {
   "display_name": "Python 3",
   "language": "python",
   "name": "python3"
  },
  "language_info": {
   "codemirror_mode": {
    "name": "ipython",
    "version": 3
   },
   "file_extension": ".py",
   "mimetype": "text/x-python",
   "name": "python",
   "nbconvert_exporter": "python",
   "pygments_lexer": "ipython3",
   "version": "3.12.2"
  }
 },
 "nbformat": 4,
 "nbformat_minor": 5
}
