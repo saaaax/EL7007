{
 "cells": [
  {
   "cell_type": "code",
   "execution_count": 2,
   "id": "fd7b300e",
   "metadata": {},
   "outputs": [
    {
     "name": "stderr",
     "output_type": "stream",
     "text": [
      "100%|██████████| 500000/500000 [08:17<00:00, 1004.70it/s]\n"
     ]
    }
   ],
   "source": [
    "import os\n",
    "import random\n",
    "import csv\n",
    "from PIL import Image, ImageDraw, ImageFont\n",
    "from tqdm import tqdm\n",
    "\n",
    "# Rutas\n",
    "output_dir = \"ocr_dataset_train\"\n",
    "img_dir = os.path.join(output_dir, \"img\")\n",
    "fonts_dir = \"C:/Users/ignac/Escritorio/universidad/intro_imagenes/proyecto/fonts\"  # Carpeta donde guardas tus fuentes\n",
    "os.makedirs(img_dir, exist_ok=True)\n",
    "\n",
    "labels_file = os.path.join(output_dir, \"labels.csv\")\n",
    "\n",
    "# ⚙️ Parámetros\n",
    "num_samples = 500000\n",
    "image_size = (128, 32)\n",
    "\n",
    "# Cargar palabras https://github.com/dwyl\n",
    "try:\n",
    "    with open(\"C:/Users/ignac/Escritorio/universidad/intro_imagenes/proyecto/words.txt\") as f:\n",
    "        words = [w.strip().lower() for w in f if w.strip().isalpha()]\n",
    "except FileNotFoundError:\n",
    "    words = [\"hola\", \"mundo\", \"ingenieria\", \"robotica\", \"inteligencia\", \"texto\", \"digital\"]\n",
    "\n",
    "words = random.choices(words, k=num_samples)\n",
    "\n",
    "valid_exts = [\".ttf\", \".otf\"]\n",
    "fonts = [\n",
    "    os.path.join(fonts_dir, f)\n",
    "    for f in os.listdir(fonts_dir)\n",
    "    if os.path.splitext(f)[1].lower() in valid_exts\n",
    "]\n",
    "\n",
    "if not fonts:\n",
    "    raise FileNotFoundError(\"No se encontraron archivos .ttf/.otf en la carpeta 'fonts/'.\")\n",
    "\n",
    "# Generar imágenes y labels\n",
    "with open(labels_file, \"w\", newline=\"\") as csvfile:\n",
    "    writer = csv.writer(csvfile)\n",
    "    for i, word in tqdm(enumerate(words), total=num_samples):\n",
    "        font_path = random.choice(fonts)\n",
    "        font_size = random.randint(20, 28)\n",
    "        try:\n",
    "            font = ImageFont.truetype(font_path, font_size)\n",
    "        except:\n",
    "            continue  # salta fuentes corruptas\n",
    "\n",
    "        img = Image.new(\"L\", image_size, color=255)\n",
    "        draw = ImageDraw.Draw(img)\n",
    "        draw.text((5, 0), word, font=font, fill=0)\n",
    "\n",
    "        img_path = f\"img/{i:05}.png\"\n",
    "        img.save(os.path.join(output_dir, img_path))\n",
    "        writer.writerow([img_path, word])\n"
   ]
  }
 ],
 "metadata": {
  "kernelspec": {
   "display_name": "Python 3",
   "language": "python",
   "name": "python3"
  },
  "language_info": {
   "codemirror_mode": {
    "name": "ipython",
    "version": 3
   },
   "file_extension": ".py",
   "mimetype": "text/x-python",
   "name": "python",
   "nbconvert_exporter": "python",
   "pygments_lexer": "ipython3",
   "version": "3.10.0"
  }
 },
 "nbformat": 4,
 "nbformat_minor": 5
}
